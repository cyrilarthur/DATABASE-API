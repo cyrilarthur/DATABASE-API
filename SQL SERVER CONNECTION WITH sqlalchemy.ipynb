{
 "cells": [
  {
   "cell_type": "code",
   "execution_count": 1,
   "id": "3251fc8e-e2b0-4bb8-a40f-6860c61f671f",
   "metadata": {},
   "outputs": [],
   "source": [
    "# Import Libraries "
   ]
  },
  {
   "cell_type": "code",
   "execution_count": 2,
   "id": "8adb9143-896f-49c6-95a3-66821a755ef9",
   "metadata": {},
   "outputs": [],
   "source": [
    "import pyodbc\n",
    "import pandas as pd\n",
    "from sqlalchemy import create_engine"
   ]
  },
  {
   "cell_type": "code",
   "execution_count": 3,
   "id": "0c405092-bb90-4972-b042-73b95f29f6a5",
   "metadata": {},
   "outputs": [],
   "source": [
    "# Create a Connection String"
   ]
  },
  {
   "cell_type": "code",
   "execution_count": 5,
   "id": "879671f0-bb86-4027-9c2b-cd729692be4b",
   "metadata": {},
   "outputs": [],
   "source": [
    "from sqlalchemy import create_engine\n",
    "\n",
    "# Sql Server \n",
    "server = 'DESKTOP-81UAMGN\\\\SQLEXPRESS'  \n",
    "database = 'Consumer_Segmentation'\n",
    "\n",
    "# Create a connection string with Windows Authentication\n",
    "connection_string = f'mssql+pyodbc://{server}/{database}?driver=ODBC+Driver+17+for+SQL+Server&Trusted_Connection=yes'\n",
    "\n",
    "# Create a SQLAlchemy engine\n",
    "engine = create_engine(connection_string)"
   ]
  },
  {
   "cell_type": "code",
   "execution_count": 6,
   "id": "70d35cef-44ee-4df8-b0b0-b44f8c10cfc8",
   "metadata": {},
   "outputs": [],
   "source": [
    "# Read / import  csv File "
   ]
  },
  {
   "cell_type": "code",
   "execution_count": 7,
   "id": "aa220bf1-d0dd-43d0-82a6-6d8f9e8cd106",
   "metadata": {},
   "outputs": [],
   "source": [
    "data_frame = pd.read_csv('Test.csv')"
   ]
  },
  {
   "cell_type": "code",
   "execution_count": 8,
   "id": "d18f576c-e650-4599-9426-24c8f5be1565",
   "metadata": {},
   "outputs": [],
   "source": [
    "# Head of DataFrame"
   ]
  },
  {
   "cell_type": "code",
   "execution_count": 9,
   "id": "8e0ccc85-2d7a-4737-90f3-add0aabec2ba",
   "metadata": {},
   "outputs": [
    {
     "data": {
      "text/html": [
       "<div>\n",
       "<style scoped>\n",
       "    .dataframe tbody tr th:only-of-type {\n",
       "        vertical-align: middle;\n",
       "    }\n",
       "\n",
       "    .dataframe tbody tr th {\n",
       "        vertical-align: top;\n",
       "    }\n",
       "\n",
       "    .dataframe thead th {\n",
       "        text-align: right;\n",
       "    }\n",
       "</style>\n",
       "<table border=\"1\" class=\"dataframe\">\n",
       "  <thead>\n",
       "    <tr style=\"text-align: right;\">\n",
       "      <th></th>\n",
       "      <th>ID</th>\n",
       "      <th>Gender</th>\n",
       "      <th>Ever_Married</th>\n",
       "      <th>Age</th>\n",
       "      <th>Graduated</th>\n",
       "      <th>Profession</th>\n",
       "      <th>Work_Experience</th>\n",
       "      <th>Spending_Score</th>\n",
       "      <th>Family_Size</th>\n",
       "      <th>Var_1</th>\n",
       "    </tr>\n",
       "  </thead>\n",
       "  <tbody>\n",
       "    <tr>\n",
       "      <th>0</th>\n",
       "      <td>458989</td>\n",
       "      <td>Female</td>\n",
       "      <td>Yes</td>\n",
       "      <td>36</td>\n",
       "      <td>Yes</td>\n",
       "      <td>Engineer</td>\n",
       "      <td>0.0</td>\n",
       "      <td>Low</td>\n",
       "      <td>1.0</td>\n",
       "      <td>Cat_6</td>\n",
       "    </tr>\n",
       "    <tr>\n",
       "      <th>1</th>\n",
       "      <td>458994</td>\n",
       "      <td>Male</td>\n",
       "      <td>Yes</td>\n",
       "      <td>37</td>\n",
       "      <td>Yes</td>\n",
       "      <td>Healthcare</td>\n",
       "      <td>8.0</td>\n",
       "      <td>Average</td>\n",
       "      <td>4.0</td>\n",
       "      <td>Cat_6</td>\n",
       "    </tr>\n",
       "    <tr>\n",
       "      <th>2</th>\n",
       "      <td>458996</td>\n",
       "      <td>Female</td>\n",
       "      <td>Yes</td>\n",
       "      <td>69</td>\n",
       "      <td>No</td>\n",
       "      <td>NaN</td>\n",
       "      <td>0.0</td>\n",
       "      <td>Low</td>\n",
       "      <td>1.0</td>\n",
       "      <td>Cat_6</td>\n",
       "    </tr>\n",
       "    <tr>\n",
       "      <th>3</th>\n",
       "      <td>459000</td>\n",
       "      <td>Male</td>\n",
       "      <td>Yes</td>\n",
       "      <td>59</td>\n",
       "      <td>No</td>\n",
       "      <td>Executive</td>\n",
       "      <td>11.0</td>\n",
       "      <td>High</td>\n",
       "      <td>2.0</td>\n",
       "      <td>Cat_6</td>\n",
       "    </tr>\n",
       "    <tr>\n",
       "      <th>4</th>\n",
       "      <td>459001</td>\n",
       "      <td>Female</td>\n",
       "      <td>No</td>\n",
       "      <td>19</td>\n",
       "      <td>No</td>\n",
       "      <td>Marketing</td>\n",
       "      <td>NaN</td>\n",
       "      <td>Low</td>\n",
       "      <td>4.0</td>\n",
       "      <td>Cat_6</td>\n",
       "    </tr>\n",
       "  </tbody>\n",
       "</table>\n",
       "</div>"
      ],
      "text/plain": [
       "       ID  Gender Ever_Married  Age Graduated  Profession  Work_Experience  \\\n",
       "0  458989  Female          Yes   36       Yes    Engineer              0.0   \n",
       "1  458994    Male          Yes   37       Yes  Healthcare              8.0   \n",
       "2  458996  Female          Yes   69        No         NaN              0.0   \n",
       "3  459000    Male          Yes   59        No   Executive             11.0   \n",
       "4  459001  Female           No   19        No   Marketing              NaN   \n",
       "\n",
       "  Spending_Score  Family_Size  Var_1  \n",
       "0            Low          1.0  Cat_6  \n",
       "1        Average          4.0  Cat_6  \n",
       "2            Low          1.0  Cat_6  \n",
       "3           High          2.0  Cat_6  \n",
       "4            Low          4.0  Cat_6  "
      ]
     },
     "execution_count": 9,
     "metadata": {},
     "output_type": "execute_result"
    }
   ],
   "source": [
    "data_frame.head(5) # show 5 rows"
   ]
  },
  {
   "cell_type": "code",
   "execution_count": 10,
   "id": "b929ae49-f139-47e6-a915-31127581a042",
   "metadata": {},
   "outputs": [],
   "source": [
    "# Shape of DataFrame"
   ]
  },
  {
   "cell_type": "code",
   "execution_count": 11,
   "id": "61a4d99c-fe19-42d7-baf1-ace748a42c93",
   "metadata": {},
   "outputs": [
    {
     "data": {
      "text/plain": [
       "(2627, 10)"
      ]
     },
     "execution_count": 11,
     "metadata": {},
     "output_type": "execute_result"
    }
   ],
   "source": [
    "data_frame.shape"
   ]
  },
  {
   "cell_type": "code",
   "execution_count": 12,
   "id": "de20ae3a-e9bb-4723-8024-1e68e735b760",
   "metadata": {},
   "outputs": [],
   "source": [
    "# Check columns"
   ]
  },
  {
   "cell_type": "code",
   "execution_count": 13,
   "id": "db2d46f5-5c7e-4140-a5ef-0156283667e2",
   "metadata": {},
   "outputs": [
    {
     "data": {
      "text/plain": [
       "Index(['ID', 'Gender', 'Ever_Married', 'Age', 'Graduated', 'Profession',\n",
       "       'Work_Experience', 'Spending_Score', 'Family_Size', 'Var_1'],\n",
       "      dtype='object')"
      ]
     },
     "execution_count": 13,
     "metadata": {},
     "output_type": "execute_result"
    }
   ],
   "source": [
    "data_frame.columns"
   ]
  },
  {
   "cell_type": "code",
   "execution_count": 14,
   "id": "c6205ff5-81d4-4da0-9e70-049b683693f9",
   "metadata": {},
   "outputs": [],
   "source": [
    "# Summary of DataFrame"
   ]
  },
  {
   "cell_type": "code",
   "execution_count": 15,
   "id": "99adb621-d8e3-4f5f-a9f9-addb7af0420c",
   "metadata": {},
   "outputs": [
    {
     "data": {
      "text/html": [
       "<div>\n",
       "<style scoped>\n",
       "    .dataframe tbody tr th:only-of-type {\n",
       "        vertical-align: middle;\n",
       "    }\n",
       "\n",
       "    .dataframe tbody tr th {\n",
       "        vertical-align: top;\n",
       "    }\n",
       "\n",
       "    .dataframe thead th {\n",
       "        text-align: right;\n",
       "    }\n",
       "</style>\n",
       "<table border=\"1\" class=\"dataframe\">\n",
       "  <thead>\n",
       "    <tr style=\"text-align: right;\">\n",
       "      <th></th>\n",
       "      <th>ID</th>\n",
       "      <th>Age</th>\n",
       "      <th>Work_Experience</th>\n",
       "      <th>Family_Size</th>\n",
       "    </tr>\n",
       "  </thead>\n",
       "  <tbody>\n",
       "    <tr>\n",
       "      <th>count</th>\n",
       "      <td>2627.000000</td>\n",
       "      <td>2627.000000</td>\n",
       "      <td>2358.000000</td>\n",
       "      <td>2514.000000</td>\n",
       "    </tr>\n",
       "    <tr>\n",
       "      <th>mean</th>\n",
       "      <td>463433.918919</td>\n",
       "      <td>43.649791</td>\n",
       "      <td>2.552587</td>\n",
       "      <td>2.825378</td>\n",
       "    </tr>\n",
       "    <tr>\n",
       "      <th>std</th>\n",
       "      <td>2618.245698</td>\n",
       "      <td>16.967015</td>\n",
       "      <td>3.341094</td>\n",
       "      <td>1.551906</td>\n",
       "    </tr>\n",
       "    <tr>\n",
       "      <th>min</th>\n",
       "      <td>458989.000000</td>\n",
       "      <td>18.000000</td>\n",
       "      <td>0.000000</td>\n",
       "      <td>1.000000</td>\n",
       "    </tr>\n",
       "    <tr>\n",
       "      <th>25%</th>\n",
       "      <td>461162.500000</td>\n",
       "      <td>30.000000</td>\n",
       "      <td>0.000000</td>\n",
       "      <td>2.000000</td>\n",
       "    </tr>\n",
       "    <tr>\n",
       "      <th>50%</th>\n",
       "      <td>463379.000000</td>\n",
       "      <td>41.000000</td>\n",
       "      <td>1.000000</td>\n",
       "      <td>2.000000</td>\n",
       "    </tr>\n",
       "    <tr>\n",
       "      <th>75%</th>\n",
       "      <td>465696.000000</td>\n",
       "      <td>53.000000</td>\n",
       "      <td>4.000000</td>\n",
       "      <td>4.000000</td>\n",
       "    </tr>\n",
       "    <tr>\n",
       "      <th>max</th>\n",
       "      <td>467968.000000</td>\n",
       "      <td>89.000000</td>\n",
       "      <td>14.000000</td>\n",
       "      <td>9.000000</td>\n",
       "    </tr>\n",
       "  </tbody>\n",
       "</table>\n",
       "</div>"
      ],
      "text/plain": [
       "                  ID          Age  Work_Experience  Family_Size\n",
       "count    2627.000000  2627.000000      2358.000000  2514.000000\n",
       "mean   463433.918919    43.649791         2.552587     2.825378\n",
       "std      2618.245698    16.967015         3.341094     1.551906\n",
       "min    458989.000000    18.000000         0.000000     1.000000\n",
       "25%    461162.500000    30.000000         0.000000     2.000000\n",
       "50%    463379.000000    41.000000         1.000000     2.000000\n",
       "75%    465696.000000    53.000000         4.000000     4.000000\n",
       "max    467968.000000    89.000000        14.000000     9.000000"
      ]
     },
     "execution_count": 15,
     "metadata": {},
     "output_type": "execute_result"
    }
   ],
   "source": [
    "data_frame.describe()"
   ]
  },
  {
   "cell_type": "code",
   "execution_count": 16,
   "id": "c38bc4af-4eb9-4126-a615-cf0fc326e849",
   "metadata": {},
   "outputs": [],
   "source": [
    "# Check null values"
   ]
  },
  {
   "cell_type": "code",
   "execution_count": 17,
   "id": "be7f5a60-5c0b-4f83-8e27-7073798b71fd",
   "metadata": {},
   "outputs": [
    {
     "name": "stdout",
     "output_type": "stream",
     "text": [
      "         ID  Gender  Ever_Married    Age  Graduated  Profession  \\\n",
      "0     False   False         False  False      False       False   \n",
      "1     False   False         False  False      False       False   \n",
      "2     False   False         False  False      False        True   \n",
      "3     False   False         False  False      False       False   \n",
      "4     False   False         False  False      False       False   \n",
      "...     ...     ...           ...    ...        ...         ...   \n",
      "2622  False   False         False  False      False       False   \n",
      "2623  False   False         False  False      False       False   \n",
      "2624  False   False         False  False      False       False   \n",
      "2625  False   False         False  False      False       False   \n",
      "2626  False   False         False  False      False       False   \n",
      "\n",
      "      Work_Experience  Spending_Score  Family_Size  Var_1  \n",
      "0               False           False        False  False  \n",
      "1               False           False        False  False  \n",
      "2               False           False        False  False  \n",
      "3               False           False        False  False  \n",
      "4                True           False        False  False  \n",
      "...               ...             ...          ...    ...  \n",
      "2622            False           False        False  False  \n",
      "2623            False           False        False  False  \n",
      "2624             True           False        False  False  \n",
      "2625            False           False        False  False  \n",
      "2626            False           False        False  False  \n",
      "\n",
      "[2627 rows x 10 columns]\n"
     ]
    }
   ],
   "source": [
    "null_values = data_frame.isna() \n",
    "print(null_values) # print null values"
   ]
  },
  {
   "cell_type": "code",
   "execution_count": 18,
   "id": "da6079ff-d4e0-442c-9f3b-716a5cd5485b",
   "metadata": {},
   "outputs": [],
   "source": [
    "# Check columns  Have Missing value"
   ]
  },
  {
   "cell_type": "code",
   "execution_count": 19,
   "id": "97f5756c-20c1-47e2-a1bb-a8c860e5e115",
   "metadata": {},
   "outputs": [
    {
     "name": "stdout",
     "output_type": "stream",
     "text": [
      "ID                 False\n",
      "Gender             False\n",
      "Ever_Married        True\n",
      "Age                False\n",
      "Graduated           True\n",
      "Profession          True\n",
      "Work_Experience     True\n",
      "Spending_Score     False\n",
      "Family_Size         True\n",
      "Var_1               True\n",
      "dtype: bool\n"
     ]
    }
   ],
   "source": [
    "missisng_columns_values= data_frame.isna().any()\n",
    "print(missisng_columns_values) # print missisng_columns"
   ]
  },
  {
   "cell_type": "code",
   "execution_count": 20,
   "id": "d332b163-6f6f-4a03-9890-36d503800169",
   "metadata": {},
   "outputs": [],
   "source": [
    "# remove missing values"
   ]
  },
  {
   "cell_type": "code",
   "execution_count": 21,
   "id": "eeeb163c-ecd1-4153-8f32-d8b98add4a5c",
   "metadata": {},
   "outputs": [],
   "source": [
    "drop_NullRows = data_frame.dropna(axis = 0)\n",
    "data_frame.dropna(inplace = True)"
   ]
  },
  {
   "cell_type": "code",
   "execution_count": 22,
   "id": "e2d5cf32-0419-4917-85ca-f6ad302a10e0",
   "metadata": {},
   "outputs": [],
   "source": [
    "# check for duplicates"
   ]
  },
  {
   "cell_type": "code",
   "execution_count": 23,
   "id": "3a4b71eb-7f37-4c1e-a9aa-5c1588a78077",
   "metadata": {},
   "outputs": [
    {
     "data": {
      "text/plain": [
       "False"
      ]
     },
     "execution_count": 23,
     "metadata": {},
     "output_type": "execute_result"
    }
   ],
   "source": [
    "data_frame.duplicated().any()"
   ]
  },
  {
   "cell_type": "code",
   "execution_count": 24,
   "id": "ac847456-9e16-426e-a2ab-b6f1491574f6",
   "metadata": {},
   "outputs": [],
   "source": [
    "# Drop Column"
   ]
  },
  {
   "cell_type": "code",
   "execution_count": 25,
   "id": "7a0f7b57-c191-42a9-a9dc-27935a8368fc",
   "metadata": {},
   "outputs": [],
   "source": [
    "data_frame.drop('Var_1', axis=1, inplace=True)"
   ]
  },
  {
   "cell_type": "code",
   "execution_count": 26,
   "id": "2726ce45-acec-4bbe-a6a3-c9bfb4e694e3",
   "metadata": {},
   "outputs": [],
   "source": [
    "# Import secod file into data frame"
   ]
  },
  {
   "cell_type": "code",
   "execution_count": 27,
   "id": "fd1fcf05-aba0-411d-bc2e-94f53413b2e4",
   "metadata": {},
   "outputs": [],
   "source": [
    "df2 = pd.read_csv('Train.csv')"
   ]
  },
  {
   "cell_type": "code",
   "execution_count": 28,
   "id": "69278f57-9c86-4f27-a592-776610b4ddda",
   "metadata": {},
   "outputs": [],
   "source": [
    "# Head of dataframe"
   ]
  },
  {
   "cell_type": "code",
   "execution_count": 29,
   "id": "8d1d06dc-a323-4009-9585-7ec3da02d9ce",
   "metadata": {},
   "outputs": [
    {
     "data": {
      "text/html": [
       "<div>\n",
       "<style scoped>\n",
       "    .dataframe tbody tr th:only-of-type {\n",
       "        vertical-align: middle;\n",
       "    }\n",
       "\n",
       "    .dataframe tbody tr th {\n",
       "        vertical-align: top;\n",
       "    }\n",
       "\n",
       "    .dataframe thead th {\n",
       "        text-align: right;\n",
       "    }\n",
       "</style>\n",
       "<table border=\"1\" class=\"dataframe\">\n",
       "  <thead>\n",
       "    <tr style=\"text-align: right;\">\n",
       "      <th></th>\n",
       "      <th>ID</th>\n",
       "      <th>Gender</th>\n",
       "      <th>Ever_Married</th>\n",
       "      <th>Age</th>\n",
       "      <th>Graduated</th>\n",
       "      <th>Profession</th>\n",
       "      <th>Work_Experience</th>\n",
       "      <th>Spending_Score</th>\n",
       "      <th>Family_Size</th>\n",
       "      <th>Var_1</th>\n",
       "      <th>Segmentation</th>\n",
       "    </tr>\n",
       "  </thead>\n",
       "  <tbody>\n",
       "    <tr>\n",
       "      <th>0</th>\n",
       "      <td>462809</td>\n",
       "      <td>Male</td>\n",
       "      <td>No</td>\n",
       "      <td>22</td>\n",
       "      <td>No</td>\n",
       "      <td>Healthcare</td>\n",
       "      <td>1.0</td>\n",
       "      <td>Low</td>\n",
       "      <td>4.0</td>\n",
       "      <td>Cat_4</td>\n",
       "      <td>D</td>\n",
       "    </tr>\n",
       "    <tr>\n",
       "      <th>1</th>\n",
       "      <td>462643</td>\n",
       "      <td>Female</td>\n",
       "      <td>Yes</td>\n",
       "      <td>38</td>\n",
       "      <td>Yes</td>\n",
       "      <td>Engineer</td>\n",
       "      <td>NaN</td>\n",
       "      <td>Average</td>\n",
       "      <td>3.0</td>\n",
       "      <td>Cat_4</td>\n",
       "      <td>A</td>\n",
       "    </tr>\n",
       "    <tr>\n",
       "      <th>2</th>\n",
       "      <td>466315</td>\n",
       "      <td>Female</td>\n",
       "      <td>Yes</td>\n",
       "      <td>67</td>\n",
       "      <td>Yes</td>\n",
       "      <td>Engineer</td>\n",
       "      <td>1.0</td>\n",
       "      <td>Low</td>\n",
       "      <td>1.0</td>\n",
       "      <td>Cat_6</td>\n",
       "      <td>B</td>\n",
       "    </tr>\n",
       "    <tr>\n",
       "      <th>3</th>\n",
       "      <td>461735</td>\n",
       "      <td>Male</td>\n",
       "      <td>Yes</td>\n",
       "      <td>67</td>\n",
       "      <td>Yes</td>\n",
       "      <td>Lawyer</td>\n",
       "      <td>0.0</td>\n",
       "      <td>High</td>\n",
       "      <td>2.0</td>\n",
       "      <td>Cat_6</td>\n",
       "      <td>B</td>\n",
       "    </tr>\n",
       "    <tr>\n",
       "      <th>4</th>\n",
       "      <td>462669</td>\n",
       "      <td>Female</td>\n",
       "      <td>Yes</td>\n",
       "      <td>40</td>\n",
       "      <td>Yes</td>\n",
       "      <td>Entertainment</td>\n",
       "      <td>NaN</td>\n",
       "      <td>High</td>\n",
       "      <td>6.0</td>\n",
       "      <td>Cat_6</td>\n",
       "      <td>A</td>\n",
       "    </tr>\n",
       "  </tbody>\n",
       "</table>\n",
       "</div>"
      ],
      "text/plain": [
       "       ID  Gender Ever_Married  Age Graduated     Profession  Work_Experience  \\\n",
       "0  462809    Male           No   22        No     Healthcare              1.0   \n",
       "1  462643  Female          Yes   38       Yes       Engineer              NaN   \n",
       "2  466315  Female          Yes   67       Yes       Engineer              1.0   \n",
       "3  461735    Male          Yes   67       Yes         Lawyer              0.0   \n",
       "4  462669  Female          Yes   40       Yes  Entertainment              NaN   \n",
       "\n",
       "  Spending_Score  Family_Size  Var_1 Segmentation  \n",
       "0            Low          4.0  Cat_4            D  \n",
       "1        Average          3.0  Cat_4            A  \n",
       "2            Low          1.0  Cat_6            B  \n",
       "3           High          2.0  Cat_6            B  \n",
       "4           High          6.0  Cat_6            A  "
      ]
     },
     "execution_count": 29,
     "metadata": {},
     "output_type": "execute_result"
    }
   ],
   "source": [
    "df2.head(5) # show 5 rows"
   ]
  },
  {
   "cell_type": "code",
   "execution_count": 30,
   "id": "ebbec75b-37ab-4136-ad27-27926322a663",
   "metadata": {},
   "outputs": [],
   "source": [
    "# check shape"
   ]
  },
  {
   "cell_type": "code",
   "execution_count": 31,
   "id": "2df4b780-6c98-44c6-899f-c49344d0410b",
   "metadata": {},
   "outputs": [
    {
     "data": {
      "text/plain": [
       "(8068, 11)"
      ]
     },
     "execution_count": 31,
     "metadata": {},
     "output_type": "execute_result"
    }
   ],
   "source": [
    "df2.shape"
   ]
  },
  {
   "cell_type": "code",
   "execution_count": 32,
   "id": "ca6bec30-de1f-4d41-be21-1bd35b1230b4",
   "metadata": {},
   "outputs": [],
   "source": [
    "# Check Null values"
   ]
  },
  {
   "cell_type": "code",
   "execution_count": 33,
   "id": "85968ee2-8feb-475a-a4c3-af333c87dfd2",
   "metadata": {},
   "outputs": [
    {
     "name": "stdout",
     "output_type": "stream",
     "text": [
      "         ID  Gender  Ever_Married    Age  Graduated  Profession  \\\n",
      "0     False   False         False  False      False       False   \n",
      "1     False   False         False  False      False       False   \n",
      "2     False   False         False  False      False       False   \n",
      "3     False   False         False  False      False       False   \n",
      "4     False   False         False  False      False       False   \n",
      "...     ...     ...           ...    ...        ...         ...   \n",
      "8063  False   False         False  False      False        True   \n",
      "8064  False   False         False  False      False       False   \n",
      "8065  False   False         False  False      False       False   \n",
      "8066  False   False         False  False      False       False   \n",
      "8067  False   False         False  False      False       False   \n",
      "\n",
      "      Work_Experience  Spending_Score  Family_Size  Var_1  Segmentation  \n",
      "0               False           False        False  False         False  \n",
      "1                True           False        False  False         False  \n",
      "2               False           False        False  False         False  \n",
      "3               False           False        False  False         False  \n",
      "4                True           False        False  False         False  \n",
      "...               ...             ...          ...    ...           ...  \n",
      "8063            False           False        False  False         False  \n",
      "8064            False           False        False  False         False  \n",
      "8065            False           False        False  False         False  \n",
      "8066            False           False        False  False         False  \n",
      "8067            False           False        False  False         False  \n",
      "\n",
      "[8068 rows x 11 columns]\n"
     ]
    }
   ],
   "source": [
    "null_values = df2.isna()\n",
    "print(null_values) #print null values"
   ]
  },
  {
   "cell_type": "code",
   "execution_count": 34,
   "id": "e71dc6d3-e22e-4742-b4fb-176dac756d8d",
   "metadata": {},
   "outputs": [],
   "source": [
    "# check duplicate"
   ]
  },
  {
   "cell_type": "code",
   "execution_count": 35,
   "id": "a488d52b-6691-493a-a928-49596f0668c3",
   "metadata": {},
   "outputs": [
    {
     "data": {
      "text/plain": [
       "False"
      ]
     },
     "execution_count": 35,
     "metadata": {},
     "output_type": "execute_result"
    }
   ],
   "source": [
    "df2.duplicated().any()"
   ]
  },
  {
   "cell_type": "code",
   "execution_count": 36,
   "id": "a6007d87-5315-4856-b04f-8b374d907596",
   "metadata": {},
   "outputs": [],
   "source": [
    "# drop column"
   ]
  },
  {
   "cell_type": "code",
   "execution_count": 37,
   "id": "5058a34a-3505-434c-b1b1-af1cd2bc07e2",
   "metadata": {},
   "outputs": [],
   "source": [
    "df2.drop('Var_1', axis=1, inplace=True)"
   ]
  },
  {
   "cell_type": "code",
   "execution_count": 38,
   "id": "788d30c0-c907-49e5-802f-4531d8f41424",
   "metadata": {},
   "outputs": [],
   "source": [
    "# Import third file into dataframe"
   ]
  },
  {
   "cell_type": "code",
   "execution_count": 39,
   "id": "a1427259-1a6c-4525-a337-760219cd2d59",
   "metadata": {},
   "outputs": [],
   "source": [
    "df3 = pd.read_csv('sample_submission.csv')"
   ]
  },
  {
   "cell_type": "code",
   "execution_count": 40,
   "id": "00c9bfb2-39ea-4665-886f-a03edfa7ddb3",
   "metadata": {},
   "outputs": [],
   "source": [
    "# Head of dataframe"
   ]
  },
  {
   "cell_type": "code",
   "execution_count": 41,
   "id": "219923fe-4076-4724-a80e-9b005c006178",
   "metadata": {},
   "outputs": [
    {
     "data": {
      "text/html": [
       "<div>\n",
       "<style scoped>\n",
       "    .dataframe tbody tr th:only-of-type {\n",
       "        vertical-align: middle;\n",
       "    }\n",
       "\n",
       "    .dataframe tbody tr th {\n",
       "        vertical-align: top;\n",
       "    }\n",
       "\n",
       "    .dataframe thead th {\n",
       "        text-align: right;\n",
       "    }\n",
       "</style>\n",
       "<table border=\"1\" class=\"dataframe\">\n",
       "  <thead>\n",
       "    <tr style=\"text-align: right;\">\n",
       "      <th></th>\n",
       "      <th>ID</th>\n",
       "      <th>Segmentation</th>\n",
       "    </tr>\n",
       "  </thead>\n",
       "  <tbody>\n",
       "    <tr>\n",
       "      <th>0</th>\n",
       "      <td>458989</td>\n",
       "      <td>A</td>\n",
       "    </tr>\n",
       "    <tr>\n",
       "      <th>1</th>\n",
       "      <td>458994</td>\n",
       "      <td>A</td>\n",
       "    </tr>\n",
       "    <tr>\n",
       "      <th>2</th>\n",
       "      <td>458996</td>\n",
       "      <td>A</td>\n",
       "    </tr>\n",
       "    <tr>\n",
       "      <th>3</th>\n",
       "      <td>459000</td>\n",
       "      <td>A</td>\n",
       "    </tr>\n",
       "    <tr>\n",
       "      <th>4</th>\n",
       "      <td>459001</td>\n",
       "      <td>A</td>\n",
       "    </tr>\n",
       "  </tbody>\n",
       "</table>\n",
       "</div>"
      ],
      "text/plain": [
       "       ID Segmentation\n",
       "0  458989            A\n",
       "1  458994            A\n",
       "2  458996            A\n",
       "3  459000            A\n",
       "4  459001            A"
      ]
     },
     "execution_count": 41,
     "metadata": {},
     "output_type": "execute_result"
    }
   ],
   "source": [
    "df3.head(5) #show 5 rows"
   ]
  },
  {
   "cell_type": "code",
   "execution_count": 42,
   "id": "9ea93572-1250-40ec-99e4-a94bcee4703b",
   "metadata": {},
   "outputs": [],
   "source": [
    "# check shape"
   ]
  },
  {
   "cell_type": "code",
   "execution_count": 43,
   "id": "e65fd2a9-a0ec-4ff6-998a-b402d2f79d21",
   "metadata": {},
   "outputs": [
    {
     "data": {
      "text/plain": [
       "(2627, 2)"
      ]
     },
     "execution_count": 43,
     "metadata": {},
     "output_type": "execute_result"
    }
   ],
   "source": [
    "df3.shape"
   ]
  },
  {
   "cell_type": "code",
   "execution_count": 44,
   "id": "3dddc9bf-9d89-4356-aed0-6850c461ebb2",
   "metadata": {},
   "outputs": [],
   "source": [
    "# check for duplicates"
   ]
  },
  {
   "cell_type": "code",
   "execution_count": 45,
   "id": "8ba7bce0-8935-4c5e-8094-699ecbb650c6",
   "metadata": {},
   "outputs": [
    {
     "data": {
      "text/plain": [
       "False"
      ]
     },
     "execution_count": 45,
     "metadata": {},
     "output_type": "execute_result"
    }
   ],
   "source": [
    "df3.duplicated().any()"
   ]
  },
  {
   "cell_type": "code",
   "execution_count": 46,
   "id": "f549d2cc-bd7e-4d4d-b5b3-8acc7eb8c29b",
   "metadata": {},
   "outputs": [],
   "source": [
    "# Check for null values"
   ]
  },
  {
   "cell_type": "code",
   "execution_count": 47,
   "id": "654a9324-764c-43c6-932a-af0240bc009f",
   "metadata": {},
   "outputs": [
    {
     "name": "stdout",
     "output_type": "stream",
     "text": [
      "         ID  Segmentation\n",
      "0     False         False\n",
      "1     False         False\n",
      "2     False         False\n",
      "3     False         False\n",
      "4     False         False\n",
      "...     ...           ...\n",
      "2622  False         False\n",
      "2623  False         False\n",
      "2624  False         False\n",
      "2625  False         False\n",
      "2626  False         False\n",
      "\n",
      "[2627 rows x 2 columns]\n"
     ]
    }
   ],
   "source": [
    "null_values = df3.isna()\n",
    "print(null_values) #print null values"
   ]
  },
  {
   "cell_type": "code",
   "execution_count": 48,
   "id": "2a21b9c7-dc40-4988-b33c-34fbb1f52f57",
   "metadata": {},
   "outputs": [],
   "source": [
    "# Create Tables From Dataframes To SQL Server"
   ]
  },
  {
   "cell_type": "code",
   "execution_count": 49,
   "id": "e3fa6b7f-d9c8-4e46-94a8-9e08b2211a00",
   "metadata": {},
   "outputs": [
    {
     "data": {
      "text/plain": [
       "627"
      ]
     },
     "execution_count": 49,
     "metadata": {},
     "output_type": "execute_result"
    }
   ],
   "source": [
    "data_frame.to_sql('Test_Table_Of_Consumer', engine, index=False, if_exists='replace')\n",
    "df2.to_sql('Train_Table_Of_Consumer', engine, index=False, if_exists='replace')\n",
    "df3.to_sql('Sample_Of_Consumer_Segmentation', engine, index=False, if_exists='replace')"
   ]
  },
  {
   "cell_type": "code",
   "execution_count": 50,
   "id": "e42c14dc-1863-44be-a861-4809e6dd252d",
   "metadata": {},
   "outputs": [],
   "source": [
    "# Insert values  Into Tables Created "
   ]
  },
  {
   "cell_type": "code",
   "execution_count": 51,
   "id": "86c74969-19d0-4110-8a9d-13e4f4bc73eb",
   "metadata": {},
   "outputs": [
    {
     "name": "stdout",
     "output_type": "stream",
     "text": [
      "<class 'pandas.core.frame.DataFrame'>\n",
      "RangeIndex: 2627 entries, 0 to 2626\n",
      "Data columns (total 10 columns):\n",
      " #   Column           Non-Null Count  Dtype  \n",
      "---  ------           --------------  -----  \n",
      " 0   ID               2627 non-null   int64  \n",
      " 1   Gender           2627 non-null   object \n",
      " 2   Ever_Married     2577 non-null   object \n",
      " 3   Age              2627 non-null   int64  \n",
      " 4   Graduated        2603 non-null   object \n",
      " 5   Profession       2589 non-null   object \n",
      " 6   Work_Experience  2358 non-null   float64\n",
      " 7   Spending_Score   2627 non-null   object \n",
      " 8   Family_Size      2514 non-null   float64\n",
      " 9   Var_1            2595 non-null   object \n",
      "dtypes: float64(2), int64(2), object(6)\n",
      "memory usage: 205.4+ KB\n",
      "None\n"
     ]
    },
    {
     "data": {
      "text/plain": [
       "64"
      ]
     },
     "execution_count": 51,
     "metadata": {},
     "output_type": "execute_result"
    }
   ],
   "source": [
    "new_test_df = pd.read_csv('Test.csv') # Reload the csv file\n",
    "print(new_test_df.info())\n",
    "\n",
    "new_test_df = new_test_df.drop(columns=['Var_1'], errors='ignore') # drop var_1 column explicitly\n",
    "\n",
    "new_test_df.to_sql('Test_Table_Of_Consumer',engine, index=False, if_exists='append') # insert values in dataframe"
   ]
  },
  {
   "cell_type": "code",
   "execution_count": 52,
   "id": "bb25f9e0-874c-4660-ab52-12ed73dd3e2d",
   "metadata": {},
   "outputs": [
    {
     "data": {
      "text/plain": [
       "126"
      ]
     },
     "execution_count": 52,
     "metadata": {},
     "output_type": "execute_result"
    }
   ],
   "source": [
    "new_train_df = pd.read_csv('Train.csv') # Reload the csv file\n",
    "\n",
    "new_train_df = new_train_df.drop(columns=['Var_1'], errors='ignore') # drop var_1 column explicitly\n",
    "\n",
    "new_train_df.to_sql('Train_Table_Of_Consumer',engine, index=False, if_exists='append') # insert values in dataframe"
   ]
  },
  {
   "cell_type": "code",
   "execution_count": 53,
   "id": "f00f8e36-2fb4-4fe5-9e93-8c312c2df4d0",
   "metadata": {},
   "outputs": [
    {
     "data": {
      "text/plain": [
       "627"
      ]
     },
     "execution_count": 53,
     "metadata": {},
     "output_type": "execute_result"
    }
   ],
   "source": [
    "new_data_sample= pd.read_csv('sample_submission.csv')  # Reload the csv file\n",
    "new_data_sample.to_sql('Sample_Of_Consumer_Segmentation', engine, index=False, if_exists='append') # insert values in dataframe"
   ]
  },
  {
   "cell_type": "code",
   "execution_count": 58,
   "id": "68f963d5-fba2-47e0-be69-3889494a6060",
   "metadata": {},
   "outputs": [],
   "source": [
    "# Show Tables Created"
   ]
  },
  {
   "cell_type": "code",
   "execution_count": 57,
   "id": "b72e0e07-9559-4057-a6cc-d059f9aed9ce",
   "metadata": {},
   "outputs": [
    {
     "name": "stdout",
     "output_type": "stream",
     "text": [
      "Tables in the database:\n",
      "Sample_Of_Consumer_Segmentation\n",
      "Test_Table_Of_Consumer\n",
      "Train_Table_Of_Consumer\n"
     ]
    }
   ],
   "source": [
    "from sqlalchemy import create_engine, inspect\n",
    "\n",
    "engine = create_engine(f'mssql+pyodbc://{server}/{database}?driver=ODBC+Driver+17+for+SQL+Server&Trusted_Connection=yes')\n",
    "\n",
    "# Create an inspector\n",
    "inspector = inspect(engine)\n",
    "\n",
    "# Get a list of table names\n",
    "table_names = inspector.get_table_names()\n",
    "\n",
    "# Print the list of table names\n",
    "print(\"Tables in the database:\")\n",
    "for table_name in table_names:\n",
    "    print(table_name)\n"
   ]
  },
  {
   "cell_type": "code",
   "execution_count": null,
   "id": "64e7fe03-cc7c-4736-8bbd-ec1f4ca659d7",
   "metadata": {},
   "outputs": [],
   "source": []
  }
 ],
 "metadata": {
  "kernelspec": {
   "display_name": "Python 3 (ipykernel)",
   "language": "python",
   "name": "python3"
  },
  "language_info": {
   "codemirror_mode": {
    "name": "ipython",
    "version": 3
   },
   "file_extension": ".py",
   "mimetype": "text/x-python",
   "name": "python",
   "nbconvert_exporter": "python",
   "pygments_lexer": "ipython3",
   "version": "3.11.4"
  }
 },
 "nbformat": 4,
 "nbformat_minor": 5
}
